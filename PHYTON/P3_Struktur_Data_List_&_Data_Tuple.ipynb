{
  "nbformat": 4,
  "nbformat_minor": 0,
  "metadata": {
    "colab": {
      "provenance": []
    },
    "kernelspec": {
      "name": "python3",
      "display_name": "Python 3"
    },
    "language_info": {
      "name": "python"
    }
  },
  "cells": [
    {
      "cell_type": "markdown",
      "source": [
        "#Struktur Data"
      ],
      "metadata": {
        "id": "-DSlXyx6ZO7o"
      }
    },
    {
      "cell_type": "markdown",
      "source": [
        "##List"
      ],
      "metadata": {
        "id": "C6_kNoOYZlJ4"
      }
    },
    {
      "cell_type": "code",
      "execution_count": null,
      "metadata": {
        "colab": {
          "base_uri": "https://localhost:8080/"
        },
        "id": "HX1YRjpJXnJo",
        "outputId": "2d0c025b-bb44-4dde-c451-2a821c84f996"
      },
      "outputs": [
        {
          "output_type": "stream",
          "name": "stdout",
          "text": [
            "<class 'list'>\n"
          ]
        }
      ],
      "source": [
        "L1 = [1,4,2,13]\n",
        "print(type(L1))"
      ]
    },
    {
      "cell_type": "code",
      "source": [
        "L1 = [1,4,2,13]\n",
        "L1"
      ],
      "metadata": {
        "colab": {
          "base_uri": "https://localhost:8080/"
        },
        "id": "imwQef6lYHez",
        "outputId": "c19fda20-98bc-4d6a-fdc3-078a75319f9a"
      },
      "execution_count": null,
      "outputs": [
        {
          "output_type": "execute_result",
          "data": {
            "text/plain": [
              "[1, 4, 2, 13]"
            ]
          },
          "metadata": {},
          "execution_count": 2
        }
      ]
    },
    {
      "cell_type": "code",
      "source": [
        "L2 = ['a','phyton',3,2+1j]\n",
        "L2"
      ],
      "metadata": {
        "colab": {
          "base_uri": "https://localhost:8080/"
        },
        "id": "mQLwbftiYUXR",
        "outputId": "2e2794e9-04cd-4270-f617-af02cf0f76c0"
      },
      "execution_count": null,
      "outputs": [
        {
          "output_type": "execute_result",
          "data": {
            "text/plain": [
              "['a', 'phyton', 3, (2+1j)]"
            ]
          },
          "metadata": {},
          "execution_count": 3
        }
      ]
    },
    {
      "cell_type": "code",
      "source": [],
      "metadata": {
        "id": "VufunOC7aLQQ"
      },
      "execution_count": null,
      "outputs": []
    },
    {
      "cell_type": "code",
      "source": [
        "#menampilkan elemen dengan menggunakan fungsi print\n",
        "matkul = ['fuzzy','pdp','metnum','graph']\n",
        "print(matkul[2])\n",
        "print(matkul[2:])\n",
        "print(matkul[1:3])   #menampilkan matkul list ke1,ke3\n",
        "print(matkul[-2])\n",
        "print(matkul[-3:-1])\n",
        "print(matkul[-1])    #menampilkan matkul dari belakang pertama"
      ],
      "metadata": {
        "colab": {
          "base_uri": "https://localhost:8080/"
        },
        "id": "4Ww4mCVuYfa6",
        "outputId": "8aab059b-a509-4443-ffdd-eb4efe0191d8"
      },
      "execution_count": null,
      "outputs": [
        {
          "output_type": "stream",
          "name": "stdout",
          "text": [
            "metnum\n",
            "['metnum', 'graph']\n",
            "['pdp', 'metnum']\n",
            "metnum\n",
            "['pdp', 'metnum']\n",
            "graph\n"
          ]
        }
      ]
    },
    {
      "cell_type": "code",
      "source": [
        "data = ['5','23','kalkulus','2.5','True',5+2j]\n",
        "print(data[2])\n",
        "print(data[1:4])\n",
        "print(data[0:1])\n",
        "print(data[0:2])\n",
        "print(data[-4])\n",
        "print(data[5])\n",
        "print(data[3])"
      ],
      "metadata": {
        "colab": {
          "base_uri": "https://localhost:8080/"
        },
        "id": "yfR9iKpsam8G",
        "outputId": "d4ebcbc5-edc5-40f5-b4e5-a6556b91c1a6"
      },
      "execution_count": null,
      "outputs": [
        {
          "output_type": "stream",
          "name": "stdout",
          "text": [
            "kalkulus\n",
            "['23', 'kalkulus', '2.5']\n",
            "['5']\n",
            "['5', '23']\n",
            "kalkulus\n",
            "(5+2j)\n",
            "2.5\n"
          ]
        }
      ]
    },
    {
      "cell_type": "code",
      "source": [
        "print(data[1:3])"
      ],
      "metadata": {
        "colab": {
          "base_uri": "https://localhost:8080/"
        },
        "id": "SPwm8r1LcQHs",
        "outputId": "12ab1cc5-5fa2-413f-8d2c-a7bdc281448e"
      },
      "execution_count": null,
      "outputs": [
        {
          "output_type": "stream",
          "name": "stdout",
          "text": [
            "['23', 'kalkulus']\n"
          ]
        }
      ]
    },
    {
      "cell_type": "markdown",
      "source": [
        "### Sifat-sifat list"
      ],
      "metadata": {
        "id": "FYQD4hO4g3XL"
      }
    },
    {
      "cell_type": "code",
      "source": [
        "#dapat diganti\n",
        "data = ['5','23','kalkulus','2.5','True',5+2j]\n",
        "data[4] = 'Matematika komputasi'\n",
        "print(data)"
      ],
      "metadata": {
        "colab": {
          "base_uri": "https://localhost:8080/"
        },
        "id": "Z3uVMH86g2IX",
        "outputId": "ad467c43-2735-484f-b32b-a99ec3d2d7d6"
      },
      "execution_count": null,
      "outputs": [
        {
          "output_type": "stream",
          "name": "stdout",
          "text": [
            "['5', '23', 'kalkulus', '2.5', 'Matematika komputasi', (5+2j)]\n"
          ]
        }
      ]
    },
    {
      "cell_type": "code",
      "source": [
        "#dapat di indeks/slicing\n",
        "data = ['5','23','kalkulus','2.5','True',5+2j]\n",
        "print('slicing list data:', data[2])\n"
      ],
      "metadata": {
        "colab": {
          "base_uri": "https://localhost:8080/"
        },
        "id": "114Mcbiyh0Md",
        "outputId": "d1b3d71a-5c07-4062-a124-7b53fed08a51"
      },
      "execution_count": null,
      "outputs": [
        {
          "output_type": "stream",
          "name": "stdout",
          "text": [
            "slicing list data: kalkulus\n"
          ]
        }
      ]
    },
    {
      "cell_type": "code",
      "source": [
        "#dapat diijinkan duplikasi\n",
        "data = ['5','23','kalkulus','2.5','True',5+2j]\n",
        "print('Duplikasi list data:', data[4])"
      ],
      "metadata": {
        "colab": {
          "base_uri": "https://localhost:8080/"
        },
        "id": "Qws7DdpfdlLf",
        "outputId": "412ea8ba-6ecf-46f8-8331-a36ba063decb"
      },
      "execution_count": null,
      "outputs": [
        {
          "output_type": "stream",
          "name": "stdout",
          "text": [
            "Duplikasi list data: True\n"
          ]
        }
      ]
    },
    {
      "cell_type": "markdown",
      "source": [
        "##Tupple\n",
        "###tidak dapat diubah/diganti dan menggunakan kurung biasa"
      ],
      "metadata": {
        "id": "ylm-K4_SjN--"
      }
    },
    {
      "cell_type": "code",
      "source": [
        "T1 = (2, 5+4j, 'Problem', 'solving', 10, 2-1j)\n",
        "print('ini adalah tuple satu', T1)\n",
        "print(type(T1))"
      ],
      "metadata": {
        "colab": {
          "base_uri": "https://localhost:8080/"
        },
        "id": "3T0WgEGxi-q_",
        "outputId": "95233b97-9e73-4a42-d179-eba417cdbb20"
      },
      "execution_count": null,
      "outputs": [
        {
          "output_type": "stream",
          "name": "stdout",
          "text": [
            "ini adalah tuple satu (2, (5+4j), 'Problem', 'solving', 10, (2-1j))\n",
            "<class 'tuple'>\n"
          ]
        }
      ]
    },
    {
      "cell_type": "code",
      "source": [
        "T2 = ('Nilai','Aljabar','linear ku','adalah',100,True, )\n",
        "print(T2)"
      ],
      "metadata": {
        "colab": {
          "base_uri": "https://localhost:8080/"
        },
        "id": "qc6qb434l8H3",
        "outputId": "58ef65ff-51bd-4f91-cd2a-2cdb08b22b52"
      },
      "execution_count": null,
      "outputs": [
        {
          "output_type": "stream",
          "name": "stdout",
          "text": [
            "('Nilai', 'Aljabar', 'linear ku', 'adalah', 100, True)\n"
          ]
        }
      ]
    },
    {
      "cell_type": "markdown",
      "source": [
        "###Sifat-sifat tuple"
      ],
      "metadata": {
        "id": "--ugNx5PhDjn"
      }
    },
    {
      "cell_type": "code",
      "source": [
        "## menggabungkan tuple\n",
        "T3 = T1+T2\n",
        "print(T3)"
      ],
      "metadata": {
        "colab": {
          "base_uri": "https://localhost:8080/"
        },
        "id": "X01xxOaZlxBa",
        "outputId": "cf2af945-5288-4928-9a56-4773fd4107e3"
      },
      "execution_count": null,
      "outputs": [
        {
          "output_type": "stream",
          "name": "stdout",
          "text": [
            "(2, (5+4j), 'Problem', 'solving', 10, (2-1j), 'Nilai', 'Aljabar', 'linear ku', 'adalah', 100, True)\n"
          ]
        }
      ]
    }
  ]
}
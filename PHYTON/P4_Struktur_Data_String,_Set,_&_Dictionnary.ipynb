{
  "nbformat": 4,
  "nbformat_minor": 0,
  "metadata": {
    "colab": {
      "provenance": []
    },
    "kernelspec": {
      "name": "python3",
      "display_name": "Python 3"
    },
    "language_info": {
      "name": "python"
    }
  },
  "cells": [
    {
      "cell_type": "markdown",
      "source": [
        "#String"
      ],
      "metadata": {
        "id": "kiSMFs1Io2nJ"
      }
    },
    {
      "cell_type": "code",
      "execution_count": null,
      "metadata": {
        "colab": {
          "base_uri": "https://localhost:8080/"
        },
        "id": "85LrW552nwAI",
        "outputId": "c49f535b-8e33-49f1-e9c9-f6dc8ff211b8"
      },
      "outputs": [
        {
          "output_type": "stream",
          "name": "stdout",
          "text": [
            "Belaj\n",
            "ajar struktur data string\n",
            "tring\n",
            "jar s\n",
            "struktur\n"
          ]
        }
      ],
      "source": [
        "#Slicing pada string\n",
        "A = \"Belajar struktur data string\"\n",
        "print(A[:5])\n",
        "print(A[3:])\n",
        "print(A[-5:])\n",
        "print(A[4:9])\n",
        "print(A[8:16])"
      ]
    },
    {
      "cell_type": "code",
      "source": [
        "A = \"Belajar struktur data string\"\n",
        "#menghilangkan karakter pertama\n",
        "print(A[1:])\n",
        "#menghilangkan karakter terakhir\n",
        "print(A[:27])"
      ],
      "metadata": {
        "colab": {
          "base_uri": "https://localhost:8080/"
        },
        "id": "HVUL16-TpinE",
        "outputId": "7185ac81-a29a-402d-e81c-be0eef4d3317"
      },
      "execution_count": null,
      "outputs": [
        {
          "output_type": "stream",
          "name": "stdout",
          "text": [
            "elajar struktur data string\n",
            "Belajar struktur data strin\n"
          ]
        }
      ]
    },
    {
      "cell_type": "markdown",
      "source": [
        "##Modifikasi string"
      ],
      "metadata": {
        "id": "X2XS75d9rfMW"
      }
    },
    {
      "cell_type": "code",
      "source": [
        "#upper()\n",
        "A.upper()"
      ],
      "metadata": {
        "colab": {
          "base_uri": "https://localhost:8080/",
          "height": 35
        },
        "id": "uTMBW8-IqqKQ",
        "outputId": "eaa8e1ef-46c2-4222-b54e-e9d55f1ff6ea"
      },
      "execution_count": null,
      "outputs": [
        {
          "output_type": "execute_result",
          "data": {
            "text/plain": [
              "'BELAJAR STRUKTUR DATA STRING'"
            ],
            "application/vnd.google.colaboratory.intrinsic+json": {
              "type": "string"
            }
          },
          "metadata": {},
          "execution_count": 11
        }
      ]
    },
    {
      "cell_type": "code",
      "source": [
        "#Lower()\n",
        "A.lower()"
      ],
      "metadata": {
        "colab": {
          "base_uri": "https://localhost:8080/",
          "height": 35
        },
        "id": "D1neq09DrmjV",
        "outputId": "a2a380f0-2fc0-454c-8e56-0699eabae5f9"
      },
      "execution_count": null,
      "outputs": [
        {
          "output_type": "execute_result",
          "data": {
            "text/plain": [
              "'belajar struktur data string'"
            ],
            "application/vnd.google.colaboratory.intrinsic+json": {
              "type": "string"
            }
          },
          "metadata": {},
          "execution_count": 12
        }
      ]
    },
    {
      "cell_type": "code",
      "source": [
        "#strip() untuk menghapus whitespace\n",
        "z='rzl rdt'\n",
        "z\n",
        "z.strip('r')"
      ],
      "metadata": {
        "colab": {
          "base_uri": "https://localhost:8080/",
          "height": 35
        },
        "id": "IwbZC4surrk4",
        "outputId": "d265cb3b-402b-4ad9-bb7c-d0aba669a94c"
      },
      "execution_count": null,
      "outputs": [
        {
          "output_type": "execute_result",
          "data": {
            "text/plain": [
              "'zl rdt'"
            ],
            "application/vnd.google.colaboratory.intrinsic+json": {
              "type": "string"
            }
          },
          "metadata": {},
          "execution_count": 18
        }
      ]
    },
    {
      "cell_type": "code",
      "source": [
        "#replace()\n",
        "A.replace('l', 'd')\n"
      ],
      "metadata": {
        "colab": {
          "base_uri": "https://localhost:8080/",
          "height": 35
        },
        "id": "dc1Yu4pasPMD",
        "outputId": "69308471-3c0a-4291-d656-789384cabcde"
      },
      "execution_count": null,
      "outputs": [
        {
          "output_type": "execute_result",
          "data": {
            "text/plain": [
              "'Bedajar struktur data string'"
            ],
            "application/vnd.google.colaboratory.intrinsic+json": {
              "type": "string"
            }
          },
          "metadata": {},
          "execution_count": 20
        }
      ]
    },
    {
      "cell_type": "code",
      "source": [
        "A = \"Belajar struktur data string\"\n",
        "A.replace('u', 'i')"
      ],
      "metadata": {
        "colab": {
          "base_uri": "https://localhost:8080/",
          "height": 35
        },
        "id": "q1fT4QN3svBd",
        "outputId": "3d771474-0af2-4714-9cf5-fe79363142ea"
      },
      "execution_count": null,
      "outputs": [
        {
          "output_type": "execute_result",
          "data": {
            "text/plain": [
              "'Belajar striktir data string'"
            ],
            "application/vnd.google.colaboratory.intrinsic+json": {
              "type": "string"
            }
          },
          "metadata": {},
          "execution_count": 21
        }
      ]
    },
    {
      "cell_type": "code",
      "source": [
        "#split() untuk membagi kata\n",
        "A.split()"
      ],
      "metadata": {
        "colab": {
          "base_uri": "https://localhost:8080/"
        },
        "id": "JWytJve2s2IR",
        "outputId": "54fa90fb-01ab-413d-9dee-8d58113a3926"
      },
      "execution_count": null,
      "outputs": [
        {
          "output_type": "execute_result",
          "data": {
            "text/plain": [
              "['Belajar', 'struktur', 'data', 'string']"
            ]
          },
          "metadata": {},
          "execution_count": 22
        }
      ]
    },
    {
      "cell_type": "code",
      "source": [
        "#Menggabungkan string\n",
        "A = 'Belajar phyton menyenangkan'\n",
        "B = 'karena syntaxnya tergolong mudah'\n",
        "A + ' ' + B"
      ],
      "metadata": {
        "colab": {
          "base_uri": "https://localhost:8080/",
          "height": 35
        },
        "id": "YF2UNRw2tN-N",
        "outputId": "50f00bd8-fe92-40b6-cfcf-5a87720dcbeb"
      },
      "execution_count": null,
      "outputs": [
        {
          "output_type": "execute_result",
          "data": {
            "text/plain": [
              "'Belajar phyton menyenangkan karena syntaxnya tergolong mudah'"
            ],
            "application/vnd.google.colaboratory.intrinsic+json": {
              "type": "string"
            }
          },
          "metadata": {},
          "execution_count": 24
        }
      ]
    },
    {
      "cell_type": "markdown",
      "source": [
        "# Set"
      ],
      "metadata": {
        "id": "ETEaDLyJt2Y2"
      }
    },
    {
      "cell_type": "markdown",
      "source": [
        "#### Set adalah kumpulan item bersifat unik dan tanpa urutan."
      ],
      "metadata": {
        "id": "1uPqyF29t7iV"
      }
    },
    {
      "cell_type": "code",
      "source": [
        "#contoh set\n",
        "S1 = {1, 'dua', True, 2+3j}"
      ],
      "metadata": {
        "id": "S3y5IwW7uDmM"
      },
      "execution_count": null,
      "outputs": []
    },
    {
      "cell_type": "code",
      "source": [
        "S1 = {1, 'dua', True, 2+3j}\n",
        "\n",
        "#tidak dapat dislicing\n",
        "print('slicing set 1', S1[3])"
      ],
      "metadata": {
        "colab": {
          "base_uri": "https://localhost:8080/",
          "height": 184
        },
        "id": "Q4_9v14auRH2",
        "outputId": "62eadd09-dfcf-45b6-81bb-b23082e9b99a"
      },
      "execution_count": null,
      "outputs": [
        {
          "output_type": "error",
          "ename": "TypeError",
          "evalue": "ignored",
          "traceback": [
            "\u001b[0;31m---------------------------------------------------------------------------\u001b[0m",
            "\u001b[0;31mTypeError\u001b[0m                                 Traceback (most recent call last)",
            "\u001b[0;32m<ipython-input-27-ebe03694dfed>\u001b[0m in \u001b[0;36m<module>\u001b[0;34m\u001b[0m\n\u001b[1;32m      1\u001b[0m \u001b[0mS1\u001b[0m \u001b[0;34m=\u001b[0m \u001b[0;34m{\u001b[0m\u001b[0;36m1\u001b[0m\u001b[0;34m,\u001b[0m \u001b[0;34m'dua'\u001b[0m\u001b[0;34m,\u001b[0m \u001b[0;32mTrue\u001b[0m\u001b[0;34m,\u001b[0m \u001b[0;36m2\u001b[0m\u001b[0;34m+\u001b[0m\u001b[0;36m3j\u001b[0m\u001b[0;34m}\u001b[0m\u001b[0;34m\u001b[0m\u001b[0;34m\u001b[0m\u001b[0m\n\u001b[0;32m----> 2\u001b[0;31m \u001b[0mprint\u001b[0m\u001b[0;34m(\u001b[0m\u001b[0;34m'slicing set 1'\u001b[0m\u001b[0;34m,\u001b[0m \u001b[0mS1\u001b[0m\u001b[0;34m[\u001b[0m\u001b[0;36m3\u001b[0m\u001b[0;34m]\u001b[0m\u001b[0;34m)\u001b[0m\u001b[0;34m\u001b[0m\u001b[0;34m\u001b[0m\u001b[0m\n\u001b[0m",
            "\u001b[0;31mTypeError\u001b[0m: 'set' object is not subscriptable"
          ]
        }
      ]
    },
    {
      "cell_type": "code",
      "source": [
        "S1 = {1,'dua'}"
      ],
      "metadata": {
        "id": "dy_Z62Aru5Ag"
      },
      "execution_count": null,
      "outputs": []
    },
    {
      "cell_type": "code",
      "source": [
        "ganjil = {1,3,5,7,9}\n",
        "genap = {2,4,6,8}\n",
        "prima = {2,3,5,7}\n",
        "\n",
        "#union   (mencari gabungan)\n",
        "print(ganjil.union(genap))\n",
        "#intersection    (irisan)\n",
        "print(ganjil.intersection(prima))\n",
        "print(genap.intersection(prima))"
      ],
      "metadata": {
        "colab": {
          "base_uri": "https://localhost:8080/"
        },
        "id": "rMRjsgLMvo2G",
        "outputId": "79dbbdc8-ff54-4bf1-9dff-35310f4a0198"
      },
      "execution_count": null,
      "outputs": [
        {
          "output_type": "stream",
          "name": "stdout",
          "text": [
            "{1, 2, 3, 4, 5, 6, 7, 8, 9}\n",
            "{3, 5, 7}\n",
            "{2}\n"
          ]
        }
      ]
    },
    {
      "cell_type": "markdown",
      "source": [
        "#Dictionary\n",
        "### D1 = {1:'value', 'key':2} untuk sebelah kiri titik 2 adalah key, untuk sebelah kana titik 2 adalah value. dimana value tidak bisa dipanggil sedangkan key bisa dipanggil."
      ],
      "metadata": {
        "id": "_PiwZLQDwbVc"
      }
    },
    {
      "cell_type": "code",
      "source": [
        "L1 = [1,'dua', True, 2+3j, 2+3j]\n",
        "L1"
      ],
      "metadata": {
        "colab": {
          "base_uri": "https://localhost:8080/"
        },
        "id": "Xtc7Ej1XxSIT",
        "outputId": "6172fe4b-d044-47c4-9d83-afa4957945fd"
      },
      "execution_count": null,
      "outputs": [
        {
          "output_type": "execute_result",
          "data": {
            "text/plain": [
              "[1, 'dua', True, (2+3j), (2+3j)]"
            ]
          },
          "metadata": {},
          "execution_count": 31
        }
      ]
    },
    {
      "cell_type": "code",
      "source": [
        "D1 = {1:'value', 'key':2}\n",
        "print(D1)"
      ],
      "metadata": {
        "colab": {
          "base_uri": "https://localhost:8080/"
        },
        "id": "C2rpt1_XwFOY",
        "outputId": "9a295e30-66ac-4a81-e83f-9152b09fa165"
      },
      "execution_count": null,
      "outputs": [
        {
          "output_type": "stream",
          "name": "stdout",
          "text": [
            "{1: 'value', 'key': 2}\n"
          ]
        }
      ]
    },
    {
      "cell_type": "code",
      "source": [
        "A3 = {2.5:'value', 'matematika':5+1j, 3:2+1j}\n",
        "A3"
      ],
      "metadata": {
        "colab": {
          "base_uri": "https://localhost:8080/"
        },
        "id": "k4OgnvwSxmCx",
        "outputId": "b86bdb39-7ef9-4823-f356-046967cf5c1f"
      },
      "execution_count": null,
      "outputs": [
        {
          "output_type": "execute_result",
          "data": {
            "text/plain": [
              "{2.5: 'value', 'matematika': (5+1j), 3: (2+1j)}"
            ]
          },
          "metadata": {},
          "execution_count": 41
        }
      ]
    },
    {
      "cell_type": "code",
      "source": [
        "L2 = {3, 'tiga', False, 2000, 7.8}\n",
        "D2 = {10:'genap', 3+3j:8, 5.5:True, 'list':L2}  #untuk memasukkan L@ di dalam D2\n",
        "print(D2)"
      ],
      "metadata": {
        "colab": {
          "base_uri": "https://localhost:8080/"
        },
        "id": "QuiasiI4ybu4",
        "outputId": "ee0dc3d3-ca72-4c7b-92c9-70ec99315a53"
      },
      "execution_count": null,
      "outputs": [
        {
          "output_type": "stream",
          "name": "stdout",
          "text": [
            "{10: 'genap', (3+3j): 8, 5.5: True, 'list': {False, 3, 7.8, 2000, 'tiga'}}\n"
          ]
        }
      ]
    },
    {
      "cell_type": "code",
      "source": [
        "#memanggil elemen berdasarkan key\n",
        "print(\"D1['key'] =\", D1['key'])"
      ],
      "metadata": {
        "colab": {
          "base_uri": "https://localhost:8080/"
        },
        "id": "Y-pzYrRJyxFL",
        "outputId": "d35ed8a9-0d3b-4a8f-b8ab-39c1da7fe1b6"
      },
      "execution_count": null,
      "outputs": [
        {
          "output_type": "stream",
          "name": "stdout",
          "text": [
            "D1['key'] = 2\n"
          ]
        }
      ]
    },
    {
      "cell_type": "code",
      "source": [
        "print(\"A3['matematika'] =\", A3['matematika'])"
      ],
      "metadata": {
        "colab": {
          "base_uri": "https://localhost:8080/"
        },
        "id": "leY-TpOozLp8",
        "outputId": "f32308f1-e042-4f13-d1a5-101af7fccc4e"
      },
      "execution_count": null,
      "outputs": [
        {
          "output_type": "stream",
          "name": "stdout",
          "text": [
            "A3['matematika'] = (5+1j)\n"
          ]
        }
      ]
    },
    {
      "cell_type": "code",
      "source": [
        "#yang bisa dipanggil hanyalah key, karena key itu ibarat kepalanya\n",
        "print(\"A3[2.5] =\", A3[2.5])"
      ],
      "metadata": {
        "colab": {
          "base_uri": "https://localhost:8080/"
        },
        "id": "tSHbsD8I0qS7",
        "outputId": "6f676948-90e8-4977-9e26-de84f2fd79cc"
      },
      "execution_count": null,
      "outputs": [
        {
          "output_type": "stream",
          "name": "stdout",
          "text": [
            "A3[2.5] = value\n"
          ]
        }
      ]
    },
    {
      "cell_type": "code",
      "source": [
        "#tidak bisa memanggil value, ibarat value itu anaknya\n",
        "print(\"A3['value'] =\", A3['value'])   "
      ],
      "metadata": {
        "colab": {
          "base_uri": "https://localhost:8080/",
          "height": 166
        },
        "id": "zHiB8d4O1XmY",
        "outputId": "d78492f1-10d7-4753-9185-3c26a72d36fa"
      },
      "execution_count": null,
      "outputs": [
        {
          "output_type": "error",
          "ename": "KeyError",
          "evalue": "ignored",
          "traceback": [
            "\u001b[0;31m---------------------------------------------------------------------------\u001b[0m",
            "\u001b[0;31mKeyError\u001b[0m                                  Traceback (most recent call last)",
            "\u001b[0;32m<ipython-input-46-8daf2a3f52f5>\u001b[0m in \u001b[0;36m<module>\u001b[0;34m\u001b[0m\n\u001b[0;32m----> 1\u001b[0;31m \u001b[0mprint\u001b[0m\u001b[0;34m(\u001b[0m\u001b[0;34m\"A3['value'] =\"\u001b[0m\u001b[0;34m,\u001b[0m \u001b[0mA3\u001b[0m\u001b[0;34m[\u001b[0m\u001b[0;34m'value'\u001b[0m\u001b[0;34m]\u001b[0m\u001b[0;34m)\u001b[0m\u001b[0;34m\u001b[0m\u001b[0;34m\u001b[0m\u001b[0m\n\u001b[0m",
            "\u001b[0;31mKeyError\u001b[0m: 'value'"
          ]
        }
      ]
    },
    {
      "cell_type": "code",
      "source": [],
      "metadata": {
        "id": "BdWz6IBU1nq-"
      },
      "execution_count": null,
      "outputs": []
    }
  ]
}
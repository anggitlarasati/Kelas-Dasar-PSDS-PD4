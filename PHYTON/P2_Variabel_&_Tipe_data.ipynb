{
  "nbformat": 4,
  "nbformat_minor": 0,
  "metadata": {
    "colab": {
      "provenance": []
    },
    "kernelspec": {
      "name": "python3",
      "display_name": "Python 3"
    },
    "language_info": {
      "name": "python"
    }
  },
  "cells": [
    {
      "cell_type": "markdown",
      "source": [
        "## Variabel"
      ],
      "metadata": {
        "id": "9PVb4HkhmajV"
      }
    },
    {
      "cell_type": "code",
      "execution_count": null,
      "metadata": {
        "colab": {
          "base_uri": "https://localhost:8080/"
        },
        "id": "GDVUmsDWiDea",
        "outputId": "224e42e0-99bd-4528-e240-3deabd782bf0"
      },
      "outputs": [
        {
          "output_type": "stream",
          "name": "stdout",
          "text": [
            "Matematika itu easy loh hehe, True\n"
          ]
        }
      ],
      "source": [
        "#Membuat variable\n",
        "kalimat = 'ini adalah variable'\n",
        "bilangan1 = 4\n",
        "bilangan2 = 2.5\n",
        "bilangan3 = True\n",
        "bilangan4 = 1j + 4\n",
        "print('Matematika itu easy loh hehe,',  bilangan3)"
      ]
    },
    {
      "cell_type": "code",
      "source": [
        " a = 2\n",
        " b = 9\n",
        " c = 3\n",
        " x = (b**2 - (4*a*c)/(2*a))\n",
        "if x > 20 :\n",
        "   print('Sindy adalah musuhku yang paling jail')\n",
        "elif x > 25:\n",
        "  print('its beautiful something')\n",
        "else:\n",
        "  print('Matematika adalah cerminan kehidupan')"
      ],
      "metadata": {
        "colab": {
          "base_uri": "https://localhost:8080/"
        },
        "id": "WvkVMbwmmOLc",
        "outputId": "13517338-2e8a-4080-a957-19772ad7f176"
      },
      "execution_count": null,
      "outputs": [
        {
          "output_type": "stream",
          "name": "stdout",
          "text": [
            "Sindy adalah musuhku yang paling jail\n"
          ]
        }
      ]
    },
    {
      "cell_type": "markdown",
      "source": [
        "##Tipe data"
      ],
      "metadata": {
        "id": "6wg8TG1-geVL"
      }
    },
    {
      "cell_type": "markdown",
      "source": [
        "5 Tipe data:\n",
        "1. Integer / bilangan bulat\n",
        "2. Float/bilangan desimal\n",
        "3. String/kalimat\n",
        "4. Boolean yang terdiri dari true and false\n",
        "5. Complex yang merupakan bilangan kompleks\n"
      ],
      "metadata": {
        "id": "nXrbuPBCrA7Z"
      }
    },
    {
      "cell_type": "code",
      "source": [
        "#Membuat variable\n",
        "kalimat = 'ini adalah variable'\n",
        "bilangan1 = 4\n",
        "bilangan2 = 2.5\n",
        "bilangan3 = True\n",
        "bilangan4 = 1j + 4\n",
        "print(type(kalimat))\n",
        "print(type(bilangan1))\n",
        "print(type(bilangan2))\n",
        "print(type(bilangan3))\n",
        "print(type(bilangan4))\n",
        "\n"
      ],
      "metadata": {
        "colab": {
          "base_uri": "https://localhost:8080/"
        },
        "id": "WmIefTXEmOZz",
        "outputId": "9e34f39d-3758-482a-ecf2-f76238ee0ef9"
      },
      "execution_count": null,
      "outputs": [
        {
          "output_type": "stream",
          "name": "stdout",
          "text": [
            "<class 'str'>\n",
            "<class 'int'>\n",
            "<class 'float'>\n",
            "<class 'bool'>\n",
            "<class 'complex'>\n"
          ]
        }
      ]
    },
    {
      "cell_type": "markdown",
      "source": [
        "##Latihan"
      ],
      "metadata": {
        "id": "mjOwy9YDgQmb"
      }
    },
    {
      "cell_type": "code",
      "source": [
        "data1 = 'fathers look at me succes from there'\n",
        "data2 = 35\n",
        "data3 = 4.5\n",
        "data4 = False \n",
        "data5 = 9j + 4\n",
        "print(type(data1))\n",
        "print(type(data2))\n",
        "print(type(data3))\n",
        "print(type(data4))\n",
        "print(type(data5))\n"
      ],
      "metadata": {
        "colab": {
          "base_uri": "https://localhost:8080/"
        },
        "id": "wP_5Q4crmOeq",
        "outputId": "5cd9b843-bdb1-473d-8559-8555ded41ed3"
      },
      "execution_count": null,
      "outputs": [
        {
          "output_type": "stream",
          "name": "stdout",
          "text": [
            "<class 'str'>\n",
            "<class 'int'>\n",
            "<class 'float'>\n",
            "<class 'bool'>\n",
            "<class 'complex'>\n"
          ]
        }
      ]
    }
  ]
}
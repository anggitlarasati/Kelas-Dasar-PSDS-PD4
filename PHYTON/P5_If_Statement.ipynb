{
  "nbformat": 4,
  "nbformat_minor": 0,
  "metadata": {
    "colab": {
      "provenance": []
    },
    "kernelspec": {
      "name": "python3",
      "display_name": "Python 3"
    },
    "language_info": {
      "name": "python"
    }
  },
  "cells": [
    {
      "cell_type": "markdown",
      "source": [
        "## If statement"
      ],
      "metadata": {
        "id": "raXzPwW9aaFZ"
      }
    },
    {
      "cell_type": "code",
      "execution_count": null,
      "metadata": {
        "colab": {
          "base_uri": "https://localhost:8080/"
        },
        "id": "agMS6FMeZ35t",
        "outputId": "5dbafc59-d64b-4049-a951-32ecaf780d39"
      },
      "outputs": [
        {
          "output_type": "stream",
          "name": "stdout",
          "text": [
            "-2 adalah bilangan negatif\n"
          ]
        }
      ],
      "source": [
        "angka = -2\n",
        "if angka > 0:\n",
        "  print(angka, 'adalah bilangan positif')\n",
        "print(angka, 'adalah bilangan negatif')"
      ]
    },
    {
      "cell_type": "code",
      "source": [
        "#jika angka adalah bilangan positif maka print 'adalah bilangan positif'\n",
        "\n",
        "angka = -2\n",
        "if angka > 0:\n",
        "  print(angka, 'adalah bilangan positif')\n",
        "print(angka, 'adalah bilangan negatif')"
      ],
      "metadata": {
        "colab": {
          "base_uri": "https://localhost:8080/"
        },
        "id": "8ebPlvL-afCY",
        "outputId": "6648505f-d0d1-45a0-c300-2cef6c7bb6bf"
      },
      "execution_count": null,
      "outputs": [
        {
          "output_type": "stream",
          "name": "stdout",
          "text": [
            "-2 adalah bilangan negatif\n"
          ]
        }
      ]
    },
    {
      "cell_type": "markdown",
      "source": [
        "### If else"
      ],
      "metadata": {
        "id": "NTylpGMcbE5m"
      }
    },
    {
      "cell_type": "code",
      "source": [
        "angka = -5\n",
        "if angka >= 0:\n",
        "  print('Bilangan lebih dari atau sa dengan 0')\n",
        "else:\n",
        "  print('Bilangan kurang dari 0')"
      ],
      "metadata": {
        "colab": {
          "base_uri": "https://localhost:8080/"
        },
        "id": "_WhRmiVyafIN",
        "outputId": "3380a097-e5a4-4124-8172-926714a96e5e"
      },
      "execution_count": null,
      "outputs": [
        {
          "output_type": "stream",
          "name": "stdout",
          "text": [
            "Bilangan kurang dari 0\n"
          ]
        }
      ]
    },
    {
      "cell_type": "code",
      "source": [
        "#percabangan dengan perbandingan 2 data\n",
        "a = 5\n",
        "b = 5\n",
        "if a == b:\n",
        "  print('a dan b bernilai sama')\n",
        "else:\n",
        "  print('a dan b bernilai beda')"
      ],
      "metadata": {
        "colab": {
          "base_uri": "https://localhost:8080/"
        },
        "id": "0GS6ADvVcXIG",
        "outputId": "531b9674-94dd-44d1-8629-e5f1a01b0956"
      },
      "execution_count": null,
      "outputs": [
        {
          "output_type": "stream",
          "name": "stdout",
          "text": [
            "a dan b bernilai sama\n"
          ]
        }
      ]
    },
    {
      "cell_type": "code",
      "source": [
        "bil1 = int(input('masukkan bilangan 1: '))\n",
        "bil2 = int(input('masukkan bilangan 2: '))\n",
        "\n",
        "if bil1 > bil2:\n",
        "  bil_lebih_besar = bil1\n",
        "else:\n",
        "  bil_lebih_besar = bil2\n",
        "\n",
        "print('Bilangan yang lebih besar adalah:', bil_lebih_besar)"
      ],
      "metadata": {
        "colab": {
          "base_uri": "https://localhost:8080/"
        },
        "id": "M6P3X7VCdF6t",
        "outputId": "0359b97d-9c75-4f3c-e19e-18af6d2c8809"
      },
      "execution_count": null,
      "outputs": [
        {
          "output_type": "stream",
          "name": "stdout",
          "text": [
            "masukkan bilangan 1: 3\n",
            "masukkan bilangan 2: 5\n",
            "Bilangan yang lebih besar adalah: 5\n"
          ]
        }
      ]
    },
    {
      "cell_type": "markdown",
      "source": [
        "### If elif else"
      ],
      "metadata": {
        "id": "SxaJA0EagTpf"
      }
    },
    {
      "cell_type": "code",
      "source": [
        "angka = -1\n",
        "if angka > 0:\n",
        "  print('Nama ku anggit larasati')\n",
        "elif angka == 0:\n",
        "  print('Prodi matematika FAST')\n",
        "else:\n",
        "  print('Karena belajar matematika itu menyenangkan')"
      ],
      "metadata": {
        "id": "1OsMSTq9gQME",
        "colab": {
          "base_uri": "https://localhost:8080/"
        },
        "outputId": "3d953a68-2cdd-48ef-9f2e-540c27d4b2b7"
      },
      "execution_count": null,
      "outputs": [
        {
          "output_type": "stream",
          "name": "stdout",
          "text": [
            "Karena belajar matematika itu menyenangkan\n"
          ]
        }
      ]
    }
  ]
}
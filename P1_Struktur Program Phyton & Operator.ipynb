{
  "nbformat": 4,
  "nbformat_minor": 0,
  "metadata": {
    "colab": {
      "provenance": [],
      "toc_visible": true
    },
    "kernelspec": {
      "name": "python3",
      "display_name": "Python 3"
    },
    "language_info": {
      "name": "python"
    }
  },
  "cells": [
    {
      "cell_type": "markdown",
      "source": [
        "# Belajar Phyton"
      ],
      "metadata": {
        "id": "PYTcFlbUisKd"
      }
    },
    {
      "cell_type": "markdown",
      "source": [
        "##  Statement"
      ],
      "metadata": {
        "id": "KwHixzvsouJf"
      }
    },
    {
      "cell_type": "code",
      "source": [
        "print('Hello World')\n",
        "print('belajar phyton sangat menarik')\n",
        "print('aku ingin \"makan\"')"
      ],
      "metadata": {
        "colab": {
          "base_uri": "https://localhost:8080/"
        },
        "id": "CKrglFRuoski",
        "outputId": "4f21c94d-57ab-42c2-83a5-8307590b3c38"
      },
      "execution_count": null,
      "outputs": [
        {
          "output_type": "stream",
          "name": "stdout",
          "text": [
            "Hello World\n",
            "belajar phyton sangat menarik\n",
            "aku ingin \"makan\"\n"
          ]
        }
      ]
    },
    {
      "cell_type": "markdown",
      "source": [
        "##Variable"
      ],
      "metadata": {
        "id": "XjIVi0J4UKAP"
      }
    },
    {
      "cell_type": "code",
      "source": [
        "bilangan1 = 5\n",
        "bilangan2 = 10\n",
        "kalimat = 'Pejuang data 3'\n",
        "print(bilangan1)"
      ],
      "metadata": {
        "colab": {
          "base_uri": "https://localhost:8080/"
        },
        "id": "XJdWn6PtpBf8",
        "outputId": "b04046e2-4b4f-4d9c-e7f1-55415ddb8449"
      },
      "execution_count": null,
      "outputs": [
        {
          "output_type": "stream",
          "name": "stdout",
          "text": [
            "5\n"
          ]
        }
      ]
    },
    {
      "cell_type": "code",
      "source": [
        "bilangan1 + bilangan2"
      ],
      "metadata": {
        "colab": {
          "base_uri": "https://localhost:8080/"
        },
        "id": "sAayIqPopB2k",
        "outputId": "497f4848-82b7-451a-a7d3-8cc5ef20e18b"
      },
      "execution_count": null,
      "outputs": [
        {
          "output_type": "execute_result",
          "data": {
            "text/plain": [
              "15"
            ]
          },
          "metadata": {},
          "execution_count": 17
        }
      ]
    },
    {
      "cell_type": "markdown",
      "source": [
        "##Operator"
      ],
      "metadata": {
        "id": "VHyanpCkSRxN"
      }
    },
    {
      "cell_type": "code",
      "source": [
        "#Operator Aritmatika\n",
        "x = 10\n",
        "y = 2\n",
        "\n",
        "print('x+y=', x+y)\n",
        "print('x-y=', x-y)\n",
        "print('x/y=', x/y)\n",
        "print('x*y=', x*y)\n",
        "\n",
        "#Operator Perbandingan\n",
        "x=8\n",
        "y=5\n",
        "\n",
        "print('x=', x)\n",
        "print('x=', y)\n",
        "print('\\n')\n",
        "\n",
        "print('x==y hasilnya', x==y)\n",
        "print('x!=y hasilnya', x!=y)\n",
        "print('x>y hasilnya', x>y)\n",
        "print('x<y hasilnya', x<y)\n",
        "print('x>=y hasilnya', x>=y)\n",
        "print('x<=y hasilnya', x<=y)\n",
        "\n",
        "#Operator Logika\n",
        "print('Hasil dari True and True   :', True and True)\n",
        "print('Hasil dari True and False  :', True and False)\n",
        "print('Hasil dari False and True  :', False and True)\n",
        "print('Hasil dari False and False :', False and False)\n",
        " \n",
        "print('\\n')\n",
        " \n",
        "print('Hasil dari True or True   :', True or True)\n",
        "print('Hasil dari True or False  :', True or False)\n",
        "print('Hasil dari False or True  :', False or True)\n",
        "print('Hasil dari False or False :', False or False)\n",
        " \n",
        "print('\\n')\n",
        " \n",
        "print('Hasil dari not True  :', not True)\n",
        "print('Hasil dari not False :', not False)\n",
        "\n",
        "#Operator Bitwise\n",
        "x = 8\n",
        "y = 5\n",
        " \n",
        "print('x berisi angka',x ,'desimal atau',bin(x),'biner')\n",
        "print('y berisi angka',y ,'desimal atau',bin(y),'biner')\n",
        " \n",
        "print('\\n')\n",
        " \n",
        "print('x & y  :',x & y)\n",
        "print('x | y  :',x | y)\n",
        "print('x ^ y  :',x ^ y)\n",
        "print('~x     :',~x)\n",
        "print('x << 1 :',x << 1)\n",
        "print('x >> 1 :',x >> 1)\n",
        "\n",
        "#Operator Assigment\n",
        "x=15\n",
        "x+=5\n",
        "print('penjumlahan x+=5:',x)\n",
        "\n",
        "x=15\n",
        "x_=5\n",
        "print('pengurangan x-=5:',x)\n",
        "\n",
        "x=15\n",
        "x*=5\n",
        "print('perkalian x*=5:',x)\n",
        "\n",
        "x=15\n",
        "x/=5\n",
        "print('pembagian x/=5:',x)\n",
        "\n",
        "x=15\n",
        "x%=5\n",
        "print('modulus x%=5:',x)\n",
        "\n",
        "x=15\n",
        "x&=5\n",
        "print('Bit AND x&=5:',x)\n",
        "\n",
        "x=15\n",
        "x|=5\n",
        "print('Bit OR x|=5:',x)\n",
        "\n",
        "x=15\n",
        "x^=5\n",
        "print('Bit XOR x^=5:',x)\n",
        "\n",
        "x=15\n",
        "x<<=5\n",
        "print('Geser ke kanan x<<=5:',x)\n",
        "\n",
        "x=15\n",
        "x>>=5\n",
        "print('Geser ke kiri x>>=5:',x)"
      ],
      "metadata": {
        "id": "sHophDlGrbE0",
        "colab": {
          "base_uri": "https://localhost:8080/"
        },
        "outputId": "e34105bc-833b-4268-f345-e4b9b7d4e9b2"
      },
      "execution_count": null,
      "outputs": [
        {
          "output_type": "stream",
          "name": "stdout",
          "text": [
            "x+y= 12\n",
            "x-y= 8\n",
            "x/y= 5.0\n",
            "x*y= 20\n",
            "x= 8\n",
            "x= 5\n",
            "\n",
            "\n",
            "x==y hasilnya False\n",
            "x!=y hasilnya True\n",
            "x>y hasilnya True\n",
            "x<y hasilnya False\n",
            "x>=y hasilnya True\n",
            "x<=y hasilnya False\n",
            "Hasil dari True and True   : True\n",
            "Hasil dari True and False  : False\n",
            "Hasil dari False and True  : False\n",
            "Hasil dari False and False : False\n",
            "\n",
            "\n",
            "Hasil dari True or True   : True\n",
            "Hasil dari True or False  : True\n",
            "Hasil dari False or True  : True\n",
            "Hasil dari False or False : False\n",
            "\n",
            "\n",
            "Hasil dari not True  : False\n",
            "Hasil dari not False : True\n",
            "x berisi angka 8 desimal atau 0b1000 biner\n",
            "y berisi angka 5 desimal atau 0b101 biner\n",
            "\n",
            "\n",
            "x & y  : 0\n",
            "x | y  : 13\n",
            "x ^ y  : 13\n",
            "~x     : -9\n",
            "x << 1 : 16\n",
            "x >> 1 : 4\n",
            "penjumlahan x+=5: 20\n",
            "pengurangan x-=5: 15\n",
            "perkalian x*=5: 75\n",
            "pembagian x/=5: 3.0\n",
            "modulus x%=5: 0\n",
            "Bit AND x&=5: 5\n",
            "Bit OR x|=5: 15\n",
            "Bit XOR x^=5: 10\n",
            "Geser ke kanan x<<=5: 480\n",
            "Geser ke kiri x>>=5: 0\n"
          ]
        }
      ]
    },
    {
      "cell_type": "markdown",
      "source": [
        "##uji coba"
      ],
      "metadata": {
        "id": "9U0EqmhUTg96"
      }
    },
    {
      "cell_type": "code",
      "source": [
        "a = int(input('nilai a: '))\n",
        "b = (3*a) + 4\n",
        "if b > 10:\n",
        "  print('spesial someone for me')\n",
        "else:\n",
        "  print('i make sure')"
      ],
      "metadata": {
        "colab": {
          "base_uri": "https://localhost:8080/"
        },
        "id": "e9Ce7fuojhRF",
        "outputId": "a84df2ba-2057-4a75-9987-e09b76133bb9"
      },
      "execution_count": null,
      "outputs": [
        {
          "output_type": "stream",
          "name": "stdout",
          "text": [
            "nilai a: 5\n",
            "spesial someone for me\n"
          ]
        }
      ]
    }
  ]
}
